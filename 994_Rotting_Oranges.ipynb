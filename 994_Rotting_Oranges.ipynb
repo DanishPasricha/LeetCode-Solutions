{
  "nbformat": 4,
  "nbformat_minor": 0,
  "metadata": {
    "colab": {
      "name": "Untitled0.ipynb",
      "provenance": [],
      "authorship_tag": "ABX9TyPl8Nh/gSAriDaJyn96yCG1",
      "include_colab_link": true
    },
    "kernelspec": {
      "name": "python3",
      "display_name": "Python 3"
    },
    "language_info": {
      "name": "python"
    }
  },
  "cells": [
    {
      "cell_type": "markdown",
      "metadata": {
        "id": "view-in-github",
        "colab_type": "text"
      },
      "source": [
        "<a href=\"https://colab.research.google.com/github/DanishPasricha/LeetCode-Solutions/blob/main/994_Rotting_Oranges.ipynb\" target=\"_parent\"><img src=\"https://colab.research.google.com/assets/colab-badge.svg\" alt=\"Open In Colab\"/></a>"
      ]
    },
    {
      "cell_type": "markdown",
      "source": [
        "Code By - Danish Pasricha\n",
        "994. Rotting Oranges"
      ],
      "metadata": {
        "id": "v-MQe-P1LKeP"
      }
    },
    {
      "cell_type": "code",
      "execution_count": null,
      "metadata": {
        "id": "NUz6v-51LEIb"
      },
      "outputs": [],
      "source": [
        "class Solution:\n",
        "    def orangesRotting(self, grid: List[List[int]]) -> int:\n",
        "        fresh_count =0\n",
        "\n",
        "                \n",
        "        if not grid: return 0\n",
        "        m=len(grid);\n",
        "        n=len(grid[0]);\n",
        "        visited = set();\n",
        "        directions = ((0,1),(0,-1),(1,0),(-1,0))\n",
        "        q=deque();\n",
        "        for i in range(m):\n",
        "            for j in range(n):\n",
        "                if grid[i][j]==2:q.append((i,j));\n",
        "                elif grid[i][j]==1:fresh_count+=1;\n",
        "                \n",
        "        c=0;\n",
        "\n",
        "        while q and fresh_count>0:\n",
        "            for i in range(len(q)):\n",
        "                (i,j) = q.popleft();\n",
        "\n",
        "                for direction in directions:\n",
        "                    next_i = i + direction[0]\n",
        "                    next_j = j + direction[1]\n",
        "                    if 0<=next_i<m and 0<=next_j<n and grid[next_i][next_j]==1:\n",
        "                        fresh_count-=1;\n",
        "                        q.append((next_i,next_j));\n",
        "                        visited.add((next_i,next_j))\n",
        "                        grid[next_i][next_j]=2;\n",
        "            c+=1;\n",
        "        if fresh_count==0:return c\n",
        "        else:return -1\n",
        "    \n",
        "\n",
        "        \n",
        "                    \n",
        "            \n",
        "        "
      ]
    }
  ]
}